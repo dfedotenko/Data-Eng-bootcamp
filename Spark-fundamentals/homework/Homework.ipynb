{
 "cells": [
  {
   "cell_type": "code",
   "execution_count": null,
   "id": "04d6b7a7-57f4-49cc-8e9f-fbc2727577dc",
   "metadata": {},
   "outputs": [],
   "source": [
    "from pyspark.sql import SparkSession\n",
    "from pyspark.sql.functions import *\n",
    "\n",
    "spark.stop()\n",
    "\n",
    "# Add some configurations to help with memory\n",
    "spark = SparkSession.builder \\\n",
    "    .config(\"spark.driver.memory\", \"8g\") \\\n",
    "    .config(\"spark.executor.memory\", \"8g\") \\\n",
    "    .config(\"spark.sql.shuffle.partitions\", \"16\") \\\n",
    "    .config(\"spark.sql.adaptive.coalescePartitions.enabled\", \"true\") \\\n",
    "    .config(\"spark.sql.adaptive.enabled\", \"true\") \\\n",
    "    .appName(\"MyHomework\") \\\n",
    "    .getOrCreate()\n",
    "\n",
    "# Load the required tables\n",
    "matches = spark.read.option(\"header\", \"true\").csv(\"/home/iceberg/data/matches.csv\")\n",
    "medal_matches_players = spark.read.option(\"header\",\"true\").csv(\"/home/iceberg/data/medals_matches_players.csv\")\n",
    "match_details = spark.read.option(\"header\", \"true\").csv(\"/home/iceberg/data/match_details.csv\")\n",
    "medals = spark.read.option(\"header\", \"true\").csv(\"/home/iceberg/data/medals.csv\")\n",
    "maps = spark.read.option(\"header\", \"true\").csv(\"/home/iceberg/data/maps.csv\")\n",
    "\n",
    "# Disable default broadcast joins\n",
    "spark.conf.set(\"spark.sql.autoBroadcastJoinThreshold\", \"-1\")"
   ]
  },
  {
   "cell_type": "code",
   "execution_count": 131,
   "id": "f90e6fbf-5098-4686-8262-b354a33a3e28",
   "metadata": {},
   "outputs": [
    {
     "name": "stdout",
     "output_type": "stream",
     "text": [
      "root\n",
      " |-- match_id: string (nullable = true)\n",
      " |-- mapid: string (nullable = true)\n",
      " |-- is_team_game: string (nullable = true)\n",
      " |-- playlist_id: string (nullable = true)\n",
      " |-- game_variant_id: string (nullable = true)\n",
      " |-- is_match_over: string (nullable = true)\n",
      " |-- completion_date: string (nullable = true)\n",
      " |-- match_duration: string (nullable = true)\n",
      " |-- game_mode: string (nullable = true)\n",
      " |-- map_variant_id: string (nullable = true)\n",
      "\n"
     ]
    }
   ],
   "source": [
    "matches.printSchema()"
   ]
  },
  {
   "cell_type": "code",
   "execution_count": null,
   "id": "0feec3a2-d00d-4ada-a621-f3d66936a3d1",
   "metadata": {},
   "outputs": [],
   "source": [
    "# Small table\n",
    "# medals.printSchema()"
   ]
  },
  {
   "cell_type": "code",
   "execution_count": 132,
   "id": "753d2cb0-6208-465c-83dc-719d1272dd65",
   "metadata": {},
   "outputs": [
    {
     "name": "stdout",
     "output_type": "stream",
     "text": [
      "root\n",
      " |-- match_id: string (nullable = true)\n",
      " |-- player_gamertag: string (nullable = true)\n",
      " |-- previous_spartan_rank: string (nullable = true)\n",
      " |-- spartan_rank: string (nullable = true)\n",
      " |-- previous_total_xp: string (nullable = true)\n",
      " |-- total_xp: string (nullable = true)\n",
      " |-- previous_csr_tier: string (nullable = true)\n",
      " |-- previous_csr_designation: string (nullable = true)\n",
      " |-- previous_csr: string (nullable = true)\n",
      " |-- previous_csr_percent_to_next_tier: string (nullable = true)\n",
      " |-- previous_csr_rank: string (nullable = true)\n",
      " |-- current_csr_tier: string (nullable = true)\n",
      " |-- current_csr_designation: string (nullable = true)\n",
      " |-- current_csr: string (nullable = true)\n",
      " |-- current_csr_percent_to_next_tier: string (nullable = true)\n",
      " |-- current_csr_rank: string (nullable = true)\n",
      " |-- player_rank_on_team: string (nullable = true)\n",
      " |-- player_finished: string (nullable = true)\n",
      " |-- player_average_life: string (nullable = true)\n",
      " |-- player_total_kills: string (nullable = true)\n",
      " |-- player_total_headshots: string (nullable = true)\n",
      " |-- player_total_weapon_damage: string (nullable = true)\n",
      " |-- player_total_shots_landed: string (nullable = true)\n",
      " |-- player_total_melee_kills: string (nullable = true)\n",
      " |-- player_total_melee_damage: string (nullable = true)\n",
      " |-- player_total_assassinations: string (nullable = true)\n",
      " |-- player_total_ground_pound_kills: string (nullable = true)\n",
      " |-- player_total_shoulder_bash_kills: string (nullable = true)\n",
      " |-- player_total_grenade_damage: string (nullable = true)\n",
      " |-- player_total_power_weapon_damage: string (nullable = true)\n",
      " |-- player_total_power_weapon_grabs: string (nullable = true)\n",
      " |-- player_total_deaths: string (nullable = true)\n",
      " |-- player_total_assists: string (nullable = true)\n",
      " |-- player_total_grenade_kills: string (nullable = true)\n",
      " |-- did_win: string (nullable = true)\n",
      " |-- team_id: string (nullable = true)\n",
      "\n"
     ]
    }
   ],
   "source": [
    "match_details.printSchema()"
   ]
  },
  {
   "cell_type": "code",
   "execution_count": null,
   "id": "83f17b39-d207-4031-b946-f5c01bb8fadb",
   "metadata": {},
   "outputs": [],
   "source": [
    "# Small table\n",
    "# maps.printSchema()"
   ]
  },
  {
   "cell_type": "code",
   "execution_count": 133,
   "id": "e5cdda3a-dc19-403c-891d-a3e34939a69c",
   "metadata": {},
   "outputs": [
    {
     "name": "stdout",
     "output_type": "stream",
     "text": [
      "root\n",
      " |-- match_id: string (nullable = true)\n",
      " |-- player_gamertag: string (nullable = true)\n",
      " |-- medal_id: string (nullable = true)\n",
      " |-- count: string (nullable = true)\n",
      "\n"
     ]
    }
   ],
   "source": [
    "medal_matches_players.printSchema()"
   ]
  },
  {
   "cell_type": "code",
   "execution_count": null,
   "id": "5655d102-7d50-4597-9333-7e00778e9963",
   "metadata": {},
   "outputs": [],
   "source": [
    "# Explicitly broadcast JOINs maps\n",
    "brd_result_matches_maps = matches.join(\n",
    "    broadcast(maps),\n",
    "    on=\"mapid\",\n",
    "    how=\"left\"\n",
    ").select(matches.match_id,\n",
    "         maps.mapid,\n",
    "         maps.name)\n",
    "brd_result_matches_maps.show()"
   ]
  },
  {
   "cell_type": "code",
   "execution_count": null,
   "id": "0fa77a6f-3d85-4d61-aaf5-2799fd0d0478",
   "metadata": {},
   "outputs": [],
   "source": [
    "# Explicitly broadcast JOINs medals\n",
    "brd_result_matches_medals = medal_matches_players.join(\n",
    "    broadcast(medals),\n",
    "    on=\"medal_id\",\n",
    "    how=\"left\"\n",
    ").select(medal_matches_players.match_id,\n",
    "         medal_matches_players.player_gamertag,\n",
    "         medals.medal_id,\n",
    "         medals.name\n",
    "        )\n",
    "brd_result_matches_medals.show()"
   ]
  },
  {
   "cell_type": "code",
   "execution_count": 219,
   "id": "b42a1bf2-d3fa-4fb2-a05a-1cc707feb9d3",
   "metadata": {},
   "outputs": [
    {
     "data": {
      "text/plain": [
       "DataFrame[]"
      ]
     },
     "execution_count": 219,
     "metadata": {},
     "output_type": "execute_result"
    }
   ],
   "source": [
    "spark.sql(\"\"\"DROP TABLE IF EXISTS bootcamp.matches_bucketed\"\"\")\n",
    "\n",
    "# This is if you want to partition by date\n",
    "# spark.sql(\"\"\"\n",
    "# CREATE TABLE IF NOT EXISTS bootcamp.matches_bucketed (\n",
    "#     match_id STRING,\n",
    "#     mapid STRING,\n",
    "#     playlist_id STRING,\n",
    "#     completion_date STRING\n",
    "# )\n",
    "# USING iceberg\n",
    "# CLUSTERED BY (match_id) INTO 16 BUCKETS\n",
    "# PARTITIONED BY (completion_date)\n",
    "# \"\"\")\n",
    "# NOTE THE USAGE OF 'CLUSTERED BY ABOVE' vs\n",
    "# PARTITIONED BY (completion_date, bucket(16, match_id))\n",
    "\n",
    "spark.sql(\"\"\"\n",
    "CREATE TABLE IF NOT EXISTS bootcamp.matches_bucketed (\n",
    "    match_id STRING,\n",
    "    mapid STRING,\n",
    "    playlist_id STRING\n",
    ")\n",
    "USING iceberg\n",
    "CLUSTERED BY (match_id) INTO 16 BUCKETS\n",
    "\"\"\")"
   ]
  },
  {
   "cell_type": "code",
   "execution_count": 220,
   "id": "8c73f32b-a254-4a20-9c5f-7efbd271fbd6",
   "metadata": {},
   "outputs": [],
   "source": [
    "matches.select(\"match_id\", \"mapid\", \"playlist_id\") \\\n",
    "     .write.mode(\"append\") \\\n",
    "     .bucketBy(16, \"match_id\").saveAsTable(\"bootcamp.matches_bucketed\")"
   ]
  },
  {
   "cell_type": "code",
   "execution_count": null,
   "id": "62be8db1-4f8d-495a-8148-e58ef1761601",
   "metadata": {},
   "outputs": [],
   "source": [
    "# This is if you want to partition by date first\n",
    "# A simpler approach above results in OOM in Java execution\n",
    "# def write_in_batches(matches_df):\n",
    "#     # Get distinct dates to process in batches\n",
    "#     dates = matches_df.select(\"completion_date\").distinct().collect()\n",
    "        \n",
    "#     # Process one date at a time\n",
    "#     for date_row in dates:\n",
    "#         date_val = date_row['completion_date']\n",
    "# #        print(f\"Processing date: {date_val}\")\n",
    "        \n",
    "#         # Filter data for current date\n",
    "#         current_batch = matches_df.filter(\n",
    "#             col(\"completion_date\") == date_val\n",
    "#         ).select(\n",
    "#             \"match_id\", \"mapid\", \"playlist_id\", \"completion_date\"\n",
    "#         )\n",
    "        \n",
    "#         # Optimize the write for current batch\n",
    "#         current_batch.repartition(16, \"match_id\") \\\n",
    "#             .write \\\n",
    "#             .mode(\"append\") \\\n",
    "#             .format(\"iceberg\") \\\n",
    "#             .option(\"write.format.default\", \"parquet\") \\\n",
    "#             .insertInto(\"bootcamp.matches_bucketed\")\n",
    "        \n",
    "#         # Clean up after each batch\n",
    "#         spark.catalog.clearCache()\n",
    "#         current_batch.unpersist()\n",
    "\n",
    "#     print(f\"Completed\")\n",
    "\n",
    "# # Execute the batched write\n",
    "# write_in_batches(matches)"
   ]
  },
  {
   "cell_type": "code",
   "execution_count": 144,
   "id": "c3fd27d2-afce-493e-89a7-360dd153fa61",
   "metadata": {},
   "outputs": [
    {
     "data": {
      "text/html": [
       "<table>\n",
       "    <thead>\n",
       "        <tr>\n",
       "            <th>count(1)</th>\n",
       "        </tr>\n",
       "    </thead>\n",
       "    <tbody>\n",
       "        <tr>\n",
       "            <td>16</td>\n",
       "        </tr>\n",
       "    </tbody>\n",
       "</table>"
      ],
      "text/plain": [
       "+----------+\n",
       "| count(1) |\n",
       "+----------+\n",
       "|       16 |\n",
       "+----------+"
      ]
     },
     "execution_count": 144,
     "metadata": {},
     "output_type": "execute_result"
    }
   ],
   "source": [
    "%%sql \n",
    "-- SELECT COUNT(1) FROM bootcamp.matches_bucketed.files"
   ]
  },
  {
   "cell_type": "code",
   "execution_count": null,
   "id": "89e269bd-1e74-4e2c-b743-359e9836cdb4",
   "metadata": {},
   "outputs": [],
   "source": [
    "spark.sql(\"\"\"DROP TABLE IF EXISTS bootcamp.match_details_bucketed\"\"\")\n",
    "\n",
    "spark.sql(\"\"\"\n",
    "CREATE TABLE IF NOT EXISTS bootcamp.match_details_bucketed (\n",
    "   match_id STRING,\n",
    "   player_gamertag STRING,\n",
    "   player_total_kills STRING,\n",
    "   player_total_deaths STRING\n",
    ")\n",
    "USING iceberg\n",
    "CLUSTERED BY (match_id) INTO 16 BUCKETS\n",
    "\"\"\")\n",
    "\n",
    "match_details.select(\"match_id\", \"player_gamertag\", \"player_total_kills\", \"player_total_deaths\") \\\n",
    "    .write.mode(\"append\") \\\n",
    "    .bucketBy(16, \"match_id\").saveAsTable(\"bootcamp.match_details_bucketed\")"
   ]
  },
  {
   "cell_type": "code",
   "execution_count": null,
   "id": "e66965fc-9d85-4e5d-8854-56316d2aecb2",
   "metadata": {},
   "outputs": [],
   "source": [
    "%%sql \n",
    "-- SELECT COUNT(1) FROM bootcamp.match_details_bucketed.files"
   ]
  },
  {
   "cell_type": "code",
   "execution_count": null,
   "id": "7045b0a7-da4c-41d5-9539-36046e123164",
   "metadata": {},
   "outputs": [],
   "source": [
    "spark.sql(\"\"\"DROP TABLE IF EXISTS bootcamp.medal_matches_players_bucketed\"\"\")\n",
    "\n",
    "spark.sql(\"\"\"\n",
    "CREATE TABLE IF NOT EXISTS bootcamp.medal_matches_players_bucketed (\n",
    "   match_id STRING,\n",
    "   player_gamertag STRING,\n",
    "   medal_id STRING,\n",
    "   count STRING\n",
    ")\n",
    "USING iceberg\n",
    "CLUSTERED BY (match_id) INTO 16 BUCKETS\n",
    "\"\"\")\n",
    "\n",
    "medal_matches_players.select(\"match_id\", \"player_gamertag\", \"medal_id\", \"count\") \\\n",
    "    .write.mode(\"append\") \\\n",
    "    .bucketBy(16, \"match_id\").saveAsTable(\"bootcamp.medal_matches_players_bucketed\")"
   ]
  },
  {
   "cell_type": "code",
   "execution_count": 221,
   "id": "2b64814f-95ab-400c-8fde-fd26084d650a",
   "metadata": {},
   "outputs": [
    {
     "name": "stdout",
     "output_type": "stream",
     "text": [
      "+--------------------+--------------------+--------------------+---------------+------------------+----------+-----------+\n",
      "|            match_id|               mapid|         playlist_id|player_gamertag|player_total_kills|  medal_id|medal_count|\n",
      "+--------------------+--------------------+--------------------+---------------+------------------+----------+-----------+\n",
      "|00114a87-5696-421...|ca737f8f-f206-11e...|892189e9-d712-4bd...|     Sn1pe2Fast|                11|3653057799|          1|\n",
      "|00114a87-5696-421...|ca737f8f-f206-11e...|892189e9-d712-4bd...|     Sn1pe2Fast|                11|3261908037|          5|\n",
      "|00114a87-5696-421...|ca737f8f-f206-11e...|892189e9-d712-4bd...|     Sn1pe2Fast|                11|3400287617|          3|\n",
      "|00114a87-5696-421...|ca737f8f-f206-11e...|892189e9-d712-4bd...|     Sn1pe2Fast|                11|2838259753|          1|\n",
      "|00114a87-5696-421...|ca737f8f-f206-11e...|892189e9-d712-4bd...|     Sn1pe2Fast|                11|3698887726|          1|\n",
      "|00114a87-5696-421...|ca737f8f-f206-11e...|892189e9-d712-4bd...|     Sn1pe2Fast|                11| 824733727|          1|\n",
      "|00114a87-5696-421...|ca737f8f-f206-11e...|892189e9-d712-4bd...|     Sn1pe2Fast|                11|3261908037|          7|\n",
      "|00114a87-5696-421...|ca737f8f-f206-11e...|892189e9-d712-4bd...|     Sn1pe2Fast|                11| 250435527|          1|\n",
      "|00114a87-5696-421...|ca737f8f-f206-11e...|892189e9-d712-4bd...|     Sn1pe2Fast|                11|2078758684|          1|\n",
      "|00114a87-5696-421...|ca737f8f-f206-11e...|892189e9-d712-4bd...|     Sn1pe2Fast|                11|2763748638|          1|\n",
      "|00114a87-5696-421...|ca737f8f-f206-11e...|892189e9-d712-4bd...|     Sn1pe2Fast|                11|2838259753|          1|\n",
      "|00114a87-5696-421...|ca737f8f-f206-11e...|892189e9-d712-4bd...|     Sn1pe2Fast|                11|2430242797|          1|\n",
      "|00114a87-5696-421...|ca737f8f-f206-11e...|892189e9-d712-4bd...|     Sn1pe2Fast|                11|1691836029|          1|\n",
      "|00114a87-5696-421...|ca737f8f-f206-11e...|892189e9-d712-4bd...|     Sn1pe2Fast|                11|3270120991|          1|\n",
      "|00114a87-5696-421...|ca737f8f-f206-11e...|892189e9-d712-4bd...|     Sn1pe2Fast|                11|3261908037|          6|\n",
      "|00114a87-5696-421...|ca737f8f-f206-11e...|892189e9-d712-4bd...|     Sn1pe2Fast|                11|2287626681|          1|\n",
      "|00114a87-5696-421...|ca737f8f-f206-11e...|892189e9-d712-4bd...|     Sn1pe2Fast|                11|3400287617|          2|\n",
      "|00114a87-5696-421...|ca737f8f-f206-11e...|892189e9-d712-4bd...|     Sn1pe2Fast|                11|2838259753|          4|\n",
      "|00114a87-5696-421...|ca737f8f-f206-11e...|892189e9-d712-4bd...|     Sn1pe2Fast|                11|2782465081|          1|\n",
      "|00114a87-5696-421...|ca737f8f-f206-11e...|892189e9-d712-4bd...|     Sn1pe2Fast|                11|2078758684|          1|\n",
      "+--------------------+--------------------+--------------------+---------------+------------------+----------+-----------+\n",
      "only showing top 20 rows\n",
      "\n"
     ]
    }
   ],
   "source": [
    "m = spark.table(\"bootcamp.matches_bucketed\")\n",
    "mmp = spark.table(\"bootcamp.medal_matches_players_bucketed\")\n",
    "md = spark.table(\"bootcamp.match_details_bucketed\")\n",
    "\n",
    "aggregateDF1 = m.alias(\"m\").join((md).alias(\"md\"), col(\"m.match_id\") == col(\"md.match_id\")\n",
    ").select(col(\"m.match_id\"), col(\"m.mapid\"), col(\"m.playlist_id\"), col(\"md.player_gamertag\"),  col(\"md.player_total_kills\")\n",
    ")\n",
    "\n",
    "aggregateDF2 = aggregateDF1.alias(\"adf1\").join((mmp).alias(\"mmp\"), col(\"adf1.match_id\") == col(\"mmp.match_id\")\n",
    ").select(col(\"adf1.*\"), col(\"mmp.medal_id\"), col(\"mmp.count\").alias(\"medal_count\"))\n",
    "\n",
    "aggregateDF2.show()\n",
    "\n",
    "aggregateView = aggregateDF2"
   ]
  },
  {
   "cell_type": "code",
   "execution_count": 222,
   "id": "296aaa13-8139-4253-87f1-b2c08c4af31b",
   "metadata": {},
   "outputs": [
    {
     "name": "stdout",
     "output_type": "stream",
     "text": [
      "Medals Size: 0.04 MB\n",
      "Medals Partitions: 1\n",
      "Matches Size: 1.37 MB\n",
      "Matches Partitions: 4\n",
      "Matches Details Size: 11.58 MB\n",
      "Matches Details Partitions: 4\n",
      "Matches Medals Players Details Size: 57.62 MB\n",
      "Matches Medals Players Partitions: 4\n"
     ]
    }
   ],
   "source": [
    "sorted_df = medals.sortWithinPartitions(col(\"medal_id\").desc())\n",
    "\n",
    "# Get size statistics\n",
    "size_bytes = sorted_df._jdf.queryExecution().optimizedPlan().stats().sizeInBytes()\n",
    "size_mb = size_bytes / (1024 * 1024)\n",
    "num_partitions = sorted_df.rdd.getNumPartitions()\n",
    "    \n",
    "print(f\"Medals Size: {size_mb:.2f} MB\")\n",
    "print(f\"Medals Partitions: {num_partitions}\")\n",
    "\n",
    "sorted_df = m.sortWithinPartitions(col(\"playlist_id\").desc())\n",
    "\n",
    "# Get size statistics\n",
    "size_bytes = sorted_df._jdf.queryExecution().optimizedPlan().stats().sizeInBytes()\n",
    "size_mb = size_bytes / (1024 * 1024)\n",
    "num_partitions = sorted_df.rdd.getNumPartitions()\n",
    "    \n",
    "print(f\"Matches Size: {size_mb:.2f} MB\")\n",
    "print(f\"Matches Partitions: {num_partitions}\")\n",
    "\n",
    "sorted_df = md.sortWithinPartitions(col(\"match_id\").desc())\n",
    "\n",
    "# Get size statistics\n",
    "size_bytes = sorted_df._jdf.queryExecution().optimizedPlan().stats().sizeInBytes()\n",
    "size_mb = size_bytes / (1024 * 1024)\n",
    "num_partitions = sorted_df.rdd.getNumPartitions()\n",
    "    \n",
    "print(f\"Matches Details Size: {size_mb:.2f} MB\")\n",
    "print(f\"Matches Details Partitions: {num_partitions}\")\n",
    "\n",
    "sorted_df = mmp.sortWithinPartitions(col(\"medal_id\").desc())\n",
    "\n",
    "# Get size statistics\n",
    "size_bytes = sorted_df._jdf.queryExecution().optimizedPlan().stats().sizeInBytes()\n",
    "size_mb = size_bytes / (1024 * 1024)\n",
    "num_partitions = sorted_df.rdd.getNumPartitions()\n",
    "    \n",
    "print(f\"Matches Medals Players Details Size: {size_mb:.2f} MB\")\n",
    "print(f\"Matches Medals Players Partitions: {num_partitions}\")"
   ]
  },
  {
   "cell_type": "code",
   "execution_count": null,
   "id": "3933cd75-5f1e-4731-a875-a7768d938cc6",
   "metadata": {},
   "outputs": [],
   "source": [
    "%%sql \n",
    "-- SELECT COUNT(1) FROM bootcamp.medal_matches_players_bucketed.files"
   ]
  },
  {
   "cell_type": "code",
   "execution_count": null,
   "id": "222882e7-b80e-42fe-82de-7ecdc314886f",
   "metadata": {},
   "outputs": [],
   "source": [
    "%%sql\n",
    "-- -- Top player with most avg kills per match\n",
    "-- SELECT player_gamertag, CAST(AVG(player_total_kills) AS INT) as avg_kills FROM bootcamp.match_details_bucketed\n",
    "--  GROUP BY player_gamertag\n",
    "--  ORDER BY CAST(AVG(player_total_kills) AS INT) DESC\n",
    "--  LIMIT 1"
   ]
  },
  {
   "cell_type": "code",
   "execution_count": 223,
   "id": "48b9be5e-9019-4e8c-9f8a-dc492280343d",
   "metadata": {},
   "outputs": [
    {
     "name": "stdout",
     "output_type": "stream",
     "text": [
      "+---------------+---------+\n",
      "|player_gamertag|avg_kills|\n",
      "+---------------+---------+\n",
      "|   gimpinator14|    109.0|\n",
      "+---------------+---------+\n",
      "\n"
     ]
    }
   ],
   "source": [
    "# Top player with most avg kills per match\n",
    "spark.table(\"bootcamp.match_details_bucketed\"\n",
    ").groupBy(\"player_gamertag\"\n",
    ").agg(avg(\"player_total_kills\").alias(\"avg_kills\")\n",
    ").orderBy(desc(\"avg_kills\")\n",
    ").limit(1).show()"
   ]
  },
  {
   "cell_type": "code",
   "execution_count": 147,
   "id": "e20e4d3e-b237-46b6-9ff1-2308347039aa",
   "metadata": {},
   "outputs": [
    {
     "data": {
      "text/html": [
       "<table>\n",
       "    <thead>\n",
       "        <tr>\n",
       "            <th>playlist_id</th>\n",
       "            <th>top_played</th>\n",
       "        </tr>\n",
       "    </thead>\n",
       "    <tbody>\n",
       "        <tr>\n",
       "            <td>f72e0ef0-7c4a-4307-af78-8e38dac3fdba</td>\n",
       "            <td>9350</td>\n",
       "        </tr>\n",
       "    </tbody>\n",
       "</table>"
      ],
      "text/plain": [
       "+--------------------------------------+------------+\n",
       "|                          playlist_id | top_played |\n",
       "+--------------------------------------+------------+\n",
       "| f72e0ef0-7c4a-4307-af78-8e38dac3fdba |       9350 |\n",
       "+--------------------------------------+------------+"
      ]
     },
     "execution_count": 147,
     "metadata": {},
     "output_type": "execute_result"
    }
   ],
   "source": [
    "%%sql\n",
    "-- -- Top played playlist\n",
    "-- SELECT playlist_id, COUNT(match_id) as top_played FROM bootcamp.matches_bucketed\n",
    "-- GROUP BY playlist_id\n",
    "-- ORDER BY COUNT(match_id) DESC\n",
    "-- LIMIT 1"
   ]
  },
  {
   "cell_type": "code",
   "execution_count": 224,
   "id": "976c0c02-0ada-44ad-b5b5-47b69a2f05e2",
   "metadata": {},
   "outputs": [
    {
     "name": "stdout",
     "output_type": "stream",
     "text": [
      "+--------------------+----------+\n",
      "|         playlist_id|top_played|\n",
      "+--------------------+----------+\n",
      "|f72e0ef0-7c4a-430...|      9350|\n",
      "+--------------------+----------+\n",
      "\n"
     ]
    }
   ],
   "source": [
    "# Top played playlist\n",
    "spark.table(\"bootcamp.matches_bucketed\"\n",
    ").groupBy(\"playlist_id\"\n",
    ").agg(count(\"match_id\").alias(\"top_played\")\n",
    ").orderBy(desc(\"top_played\")\n",
    ").limit(1).show()"
   ]
  },
  {
   "cell_type": "code",
   "execution_count": 225,
   "id": "b0b3d56c-59b3-4f59-86a2-ae08b77cc6eb",
   "metadata": {},
   "outputs": [
    {
     "name": "stdout",
     "output_type": "stream",
     "text": [
      "+--------------------+--------------+----------+\n",
      "|               mapid|      map_name|top_played|\n",
      "+--------------------+--------------+----------+\n",
      "|c7edbf0f-f206-11e...|Breakout Arena|      8587|\n",
      "+--------------------+--------------+----------+\n",
      "\n"
     ]
    }
   ],
   "source": [
    "# Top played map\n",
    "spark.table(\"bootcamp.matches_bucketed\").join(\n",
    "    broadcast(maps),\n",
    "    on=\"mapid\",\n",
    "    how=\"left\"\n",
    ").select(\"match_id\",\n",
    "         \"mapid\",\n",
    "         col(\"name\").alias(\"map_name\")\n",
    ").groupBy(\"mapid\", \"map_name\"\n",
    ").agg(countDistinct(\"match_id\").alias(\"top_played\")\n",
    ").orderBy(desc(\"top_played\")\n",
    ").limit(1).show()"
   ]
  },
  {
   "cell_type": "code",
   "execution_count": 226,
   "id": "468267b5-d0c8-4843-85fd-a406de25068c",
   "metadata": {},
   "outputs": [
    {
     "name": "stdout",
     "output_type": "stream",
     "text": [
      "+--------------------+--------------------+--------+-------------+-----+\n",
      "|            match_id|               mapid|map_name|   medal_name|count|\n",
      "+--------------------+--------------------+--------+-------------+-----+\n",
      "|fc6641b9-963e-43c...|c7805740-f206-11e...| Glacier|Killing Spree|    9|\n",
      "+--------------------+--------------------+--------+-------------+-----+\n",
      "\n"
     ]
    }
   ],
   "source": [
    "# Top map for Killing Spree medal\n",
    "\n",
    "spark.table(\"bootcamp.medal_matches_players_bucketed\").join(\n",
    "    broadcast(medals),\n",
    "    on=\"medal_id\",\n",
    "    how=\"left\"\n",
    ").select(\"match_id\",\n",
    "         \"medal_id\",\n",
    "         col(\"name\").alias(\"medal_name\"),\n",
    "         \"count\"\n",
    ").filter(col(\"name\") == \"Killing Spree\"\n",
    ").join(\n",
    "    brd_result_matches_maps,\n",
    "    on=\"match_id\",\n",
    "    how=\"left\"\n",
    ").select(\"match_id\",\n",
    "         \"mapid\",\n",
    "         col(\"name\").alias(\"map_name\"),\n",
    "         \"medal_name\",\n",
    "         \"count\"\n",
    ").orderBy(desc(\"count\")\n",
    ").limit(1).show()"
   ]
  },
  {
   "cell_type": "code",
   "execution_count": 227,
   "id": "0ec96637-a824-43d4-8568-96a4a7af839f",
   "metadata": {},
   "outputs": [
    {
     "name": "stderr",
     "output_type": "stream",
     "text": [
      "[Stage 3796:>                                                       (0 + 2) / 2]\r"
     ]
    },
    {
     "name": "stdout",
     "output_type": "stream",
     "text": [
      "+--------------------+--------------+----------+\n",
      "|               mapid|      map_name|top_played|\n",
      "+--------------------+--------------+----------+\n",
      "|c7edbf0f-f206-11e...|Breakout Arena|      7032|\n",
      "+--------------------+--------------+----------+\n",
      "\n"
     ]
    },
    {
     "name": "stderr",
     "output_type": "stream",
     "text": [
      "                                                                                \r"
     ]
    }
   ],
   "source": [
    "# Top played map using aggregated table\n",
    "# TODO: why numbers do not match?\n",
    "\n",
    "aggregateView.join(\n",
    "    broadcast(maps),\n",
    "    on=\"mapid\",\n",
    "    how=\"left\"\n",
    ").select(\"match_id\",\n",
    "         \"mapid\",\n",
    "         col(\"name\").alias(\"map_name\")\n",
    ").groupBy(\"mapid\", \"map_name\"\n",
    ").agg(countDistinct(\"match_id\").alias(\"top_played\")\n",
    ").orderBy(desc(\"top_played\")\n",
    ").limit(1).show()"
   ]
  },
  {
   "cell_type": "code",
   "execution_count": 228,
   "id": "e6392b6e-045a-48f9-b727-f6902a46db94",
   "metadata": {},
   "outputs": [
    {
     "name": "stdout",
     "output_type": "stream",
     "text": [
      "+--------------------+--------------------+--------+-------------+-----------+\n",
      "|            match_id|               mapid|map_name|   medal_name|medal_count|\n",
      "+--------------------+--------------------+--------+-------------+-----------+\n",
      "|fc6641b9-963e-43c...|c7805740-f206-11e...| Glacier|Killing Spree|          9|\n",
      "+--------------------+--------------------+--------+-------------+-----------+\n",
      "\n"
     ]
    }
   ],
   "source": [
    "# Top map for Killing Spree medal using aggregated table\n",
    "\n",
    "aggregateView.join(\n",
    "    broadcast(medals),\n",
    "    on=\"medal_id\",\n",
    "    how=\"left\"\n",
    ").select(\"match_id\",\n",
    "         \"medal_id\",\n",
    "         col(\"name\").alias(\"medal_name\"),\n",
    "         \"medal_count\"\n",
    ").filter(col(\"name\") == \"Killing Spree\"\n",
    ").join(\n",
    "    brd_result_matches_maps,\n",
    "    on=\"match_id\",\n",
    "    how=\"left\"\n",
    ").select(\"match_id\",\n",
    "         \"mapid\",\n",
    "         col(\"name\").alias(\"map_name\"),\n",
    "         \"medal_name\",\n",
    "         \"medal_count\"\n",
    ").orderBy(desc(\"medal_count\")\n",
    ").limit(1).show()"
   ]
  },
  {
   "cell_type": "code",
   "execution_count": null,
   "id": "f96e21f3-9cf4-45b3-9108-93b77f1cc1fd",
   "metadata": {},
   "outputs": [],
   "source": []
  }
 ],
 "metadata": {
  "kernelspec": {
   "display_name": "Python 3 (ipykernel)",
   "language": "python",
   "name": "python3"
  },
  "language_info": {
   "codemirror_mode": {
    "name": "ipython",
    "version": 3
   },
   "file_extension": ".py",
   "mimetype": "text/x-python",
   "name": "python",
   "nbconvert_exporter": "python",
   "pygments_lexer": "ipython3",
   "version": "3.9.18"
  }
 },
 "nbformat": 4,
 "nbformat_minor": 5
}
